{
 "cells": [
  {
   "cell_type": "code",
   "execution_count": 2,
   "id": "c23f4eb6",
   "metadata": {},
   "outputs": [],
   "source": [
    "import sys\n",
    "sys.path.append('/Users/albertsmith/Documents/GitHub/')\n",
    "import pyDR\n",
    "import numpy as np\n",
    "import matplotlib.pyplot as plt"
   ]
  },
  {
   "cell_type": "markdown",
   "id": "ae0949f2",
   "metadata": {},
   "source": [
    "# NOE calculations\n",
    "We will calculate the expected correlation time for the observed enhancement (0.6). Note that the number of involved protons affects the outcome."
   ]
  },
  {
   "cell_type": "code",
   "execution_count": 11,
   "id": "33267aee",
   "metadata": {},
   "outputs": [],
   "source": [
    "from NMRparameters import posC,posH0,box"
   ]
  },
  {
   "cell_type": "code",
   "execution_count": 12,
   "id": "a453d8b2",
   "metadata": {},
   "outputs": [],
   "source": [
    "def dist(pos0,pos):\n",
    "    \"\"\"\n",
    "    Finds the box-corrected distances between atom with position \"pos0\" and\n",
    "    atoms with position \"pos\"\n",
    "    \"\"\"\n",
    "    Dpos=pos0-pos\n",
    "    i=Dpos>box/2\n",
    "    ib=np.argwhere(i).T[1]\n",
    "    Dpos[i]=Dpos[i]-box[ib]\n",
    "\n",
    "    i=Dpos<-box/2\n",
    "    ib=np.argwhere(i).T[1]\n",
    "    Dpos[i]=Dpos[i]+box[ib]\n",
    "    return np.sqrt((Dpos**2).sum(1))\n",
    "\n",
    "def find_pairs():\n",
    "    \"\"\"\n",
    "    Pairs up the 1H according to which are on the same water\n",
    "    \"\"\"\n",
    "    pos=posH0\n",
    "    unused=np.ones(len(pos),dtype=bool)\n",
    "    index0=[]\n",
    "    index1=[]\n",
    "    for _ in range(len(pos)//2):\n",
    "        i0=np.argmax(unused)\n",
    "        d=dist(pos[i0],pos)\n",
    "        i1=np.argmin(np.abs(d-1.577))  #Search for H on same water\n",
    "        index0.append(i0)\n",
    "        index1.append(i1)\n",
    "        unused[i0]=False\n",
    "        unused[i1]=False\n",
    "    return np.array(index0),np.array(index1)\n",
    "\n",
    "def Aeff():\n",
    "    index0,index1=find_pairs()\n",
    "    A0=pyDR.tools.dipole_coupling(dist(posC,posH0[index0])/10,'1H','13C')\n",
    "    A1=pyDR.tools.dipole_coupling(dist(posC,posH0[index1])/10,'1H','13C')\n",
    "    \n",
    "    return np.sort(((A0+A1)/2).repeat(2))[::-1]\n",
    "\n",
    "def T1_NOE(nH=18):\n",
    "    Ae=Aeff()\n",
    "    R1=[]\n",
    "    NOE=[]\n",
    "    for Ae in Aeff()[:nH]:\n",
    "        nmr=pyDR.Sens.NMR(z=np.linspace(-11,-7.5,200),Type=['R1','NOE'],v0=400,Nuc='13C',Nuc1='1H',dXY=Ae)\n",
    "        R1.append(nmr.rhoz[0])\n",
    "        NOE.append(nmr.rhoz[1])\n",
    "        \n",
    "    return nmr.z,np.array(R1).sum(0),np.array(NOE).sum(0)\n",
    "\n",
    "def eNOE(nH=18):\n",
    "    z,R1,NOE=T1_NOE(nH)\n",
    "    return z,pyDR.tools.NucInfo('1H')/pyDR.tools.NucInfo('13C')*NOE/R1"
   ]
  },
  {
   "cell_type": "markdown",
   "id": "7d8d0447",
   "metadata": {},
   "source": [
    "In the following, we calculate the total H–C NOE transfer rate from all 18 $^1$H in the unit cell from the mhc.magres file, as well as the $^{13}$C $R_1$ relaxation rate constant. From the ratio of these rates, we can calculate the NOE enhancement ($\\eta$) as a function of correlation time. Note that the NOE enhancement does not depend on the size of the H–C dipole couplings or the number of $^1$H that are included in the calculation (this may be verified by entering an integer between 1 and 18 into the eNOE function, which changes the number of $^1$H included). On the other hand, the $^{13}$C $T_1$ will depend on how many $^1$H are included, although 75% of the $^{13}$C $R_1$ rate comes from the closest two water molecules.\n",
    "\n",
    "In the plot, we indicate the hopping rate yielding an enhancement of 0.6. Note that the $T_1$ at this correlation time is already much too short compared to the experimental values (222 or 132 s, depending on $^{13}$C concentration), indicating that the source of the NOE must be motion with smaller amplitude than water hopping."
   ]
  },
  {
   "cell_type": "code",
   "execution_count": 35,
   "id": "43edceed",
   "metadata": {},
   "outputs": [
    {
     "data": {
      "image/png": "[encoded data removed]",
      "text/plain": [
       "<Figure size 360x432 with 2 Axes>"
      ]
     },
     "metadata": {
      "needs_background": "light"
     },
     "output_type": "display_data"
    }
   ],
   "source": [
    "fig,ax=plt.subplots(2,1)\n",
    "\n",
    "z,e=eNOE()\n",
    "z,R1,NOE=T1_NOE(1)\n",
    "ax[0].semilogx((10**-z)/2,e)\n",
    "ax[0].set_ylim([0,2.05])\n",
    "ax[0].set_xlabel(r'$k$ / s$^{-1}$')\n",
    "ax[0].set_ylabel(r'$\\eta$')\n",
    "\n",
    "ax[1].semilogx((10**-z)/2,R1)\n",
    "ax[1].set_xlabel(r'$k$ / s$^{-1}$')\n",
    "ax[1].set_ylabel(r'$R_1$ / s$^{-1}$')\n",
    "ax[1].set_ylim([0,.13])\n",
    "\n",
    "\n",
    "i=np.argmin(np.abs(e-0.6))\n",
    "ax[0].semilogx(0.5*10**-np.array([z[i],z[i]]),ax[0].get_ylim(),color='grey',linestyle=':')\n",
    "ax[0].text(10**9.5,1,rf'$k$ = {0.5*10**-z[i]:.1e} s$^{{-1}}$')\n",
    "ax[1].semilogx(0.5*10**-np.array([z[i],z[i]]),ax[1].get_ylim(),color='grey',linestyle=':')\n",
    "ax[1].text(10**9.5,.07,rf'$T_1$ = {1/R1[i]:.2f} s')\n",
    "\n",
    "\n",
    "fig.set_size_inches([5,6])\n",
    "fig.tight_layout()"
   ]
  },
  {
   "cell_type": "code",
   "execution_count": null,
   "id": "305f0389",
   "metadata": {},
   "outputs": [],
   "source": []
  }
 ],
 "metadata": {
  "kernelspec": {
   "display_name": "Python 3",
   "language": "python",
   "name": "python3"
  },
  "language_info": {
   "codemirror_mode": {
    "name": "ipython",
    "version": 3
   },
   "file_extension": ".py",
   "mimetype": "text/x-python",
   "name": "python",
   "nbconvert_exporter": "python",
   "pygments_lexer": "ipython3",
   "version": "3.7.3"
  }
 },
 "nbformat": 4,
 "nbformat_minor": 5
}
